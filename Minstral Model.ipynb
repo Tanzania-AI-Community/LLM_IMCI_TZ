{
 "cells": [
  {
   "cell_type": "code",
   "execution_count": null,
   "id": "703fc221",
   "metadata": {},
   "outputs": [],
   "source": [
    "# pachages\n"
   ]
  },
  {
   "cell_type": "code",
   "execution_count": 4,
   "id": "d05e7e3e-9d56-429b-af3a-661e5036a7df",
   "metadata": {},
   "outputs": [],
   "source": [
    "from langchain.callbacks.manager import CallbackManager\n",
    "from langchain.callbacks.streaming_stdout import StreamingStdOutCallbackHandler\n",
    "from langchain.llms import Ollama\n"
   ]
  },
  {
   "cell_type": "code",
   "execution_count": 10,
   "id": "219189e2-a318-49b0-870c-a699b41c378a",
   "metadata": {},
   "outputs": [],
   "source": [
    "llm = Ollama(\n",
    "    model=\"mistral\",\n",
    "callback_manager=CallbackManager([StreamingStdOutCallbackHandler()]),\n",
    "system=\"\"\"\n",
    "You are IMCI assistant, a very powerful health assistant. Answer the questions in a polite and friendly manner. \n",
    "On salutation, you should respond with a greeting indicating that you are a IMCI assistant from Tanzania AI lab. \n",
    "Your responses must be well formatted and in a clear way and in the language used to by user in the conversation.\n",
    "You are tasked to be helpful assistant providing guide on how to provide treatment to children in a step wise guideline on Integrated Management of Childhood Illness. \n",
    "Your response must be formated to remve any markdowns and in a format that is compatible with whatsapp.\n",
    "Use a search tool provided to find articles retaled to the question asked whenever a question is asked. Provide links and summary of the articles found.\n",
    "\"\"\"\n",
    ")"
   ]
  },
  {
   "cell_type": "code",
   "execution_count": 7,
   "id": "3095df11-c0a5-49fb-8099-10291b96fbe2",
   "metadata": {},
   "outputs": [
    {
     "name": "stdout",
     "output_type": "stream",
     "text": [
      "Medicine has a long and complex history that dates back thousands of years. The earliest forms of medicine were practiced by ancient civilizations such as the Egyptians, Greeks, and Chinese. These early practitioners used a variety of methods to treat illnesses, including herbal remedies, surgery, and magic.\n",
      "\n",
      "In the Middle Ages, medicine was heavily influenced by the Christian Church, and many practitioners were monks or nuns. During this time, medicine was largely based on the principles of Galenic medicine, which was developed by the Greek physician Galen in the 2nd century AD. This system focused on the balance of bodily fluids and the use of herbs and other natural remedies to treat illnesses.\n",
      "\n",
      "In the Renaissance period, medicine began to undergo a major transformation. The invention of the printing press allowed for the widespread distribution of medical knowledge, and new discoveries in anatomy and physiology led to the development of new treatments and procedures. During this time, the work of famous physicians such as William Harvey and René Descartes helped to establish modern medicine.\n",
      "\n",
      "In the 19th century, medicine continued to advance rapidly, with major discoveries in fields such as microbiology, pharmacology, and surgery. The development of new technologies, such as X-rays and antibiotics, revolutionized the practice of medicine and led to significant improvements in public health.\n",
      "\n",
      "In the 20th century, medicine has continued to evolve, with a growing emphasis on preventive care and the use of evidence-based practices. The rise of new technologies, such as gene therapy and stem cell research, has also opened up new possibilities for treating diseases and improving human health.\n",
      "\n",
      "Overall, the history of medicine is one of constant progress and innovation, with new discoveries and treatments building upon the knowledge and work of those who came before them."
     ]
    },
    {
     "data": {
      "text/plain": [
       "'Medicine has a long and complex history that dates back thousands of years. The earliest forms of medicine were practiced by ancient civilizations such as the Egyptians, Greeks, and Chinese. These early practitioners used a variety of methods to treat illnesses, including herbal remedies, surgery, and magic.\\n\\nIn the Middle Ages, medicine was heavily influenced by the Christian Church, and many practitioners were monks or nuns. During this time, medicine was largely based on the principles of Galenic medicine, which was developed by the Greek physician Galen in the 2nd century AD. This system focused on the balance of bodily fluids and the use of herbs and other natural remedies to treat illnesses.\\n\\nIn the Renaissance period, medicine began to undergo a major transformation. The invention of the printing press allowed for the widespread distribution of medical knowledge, and new discoveries in anatomy and physiology led to the development of new treatments and procedures. During this time, the work of famous physicians such as William Harvey and René Descartes helped to establish modern medicine.\\n\\nIn the 19th century, medicine continued to advance rapidly, with major discoveries in fields such as microbiology, pharmacology, and surgery. The development of new technologies, such as X-rays and antibiotics, revolutionized the practice of medicine and led to significant improvements in public health.\\n\\nIn the 20th century, medicine has continued to evolve, with a growing emphasis on preventive care and the use of evidence-based practices. The rise of new technologies, such as gene therapy and stem cell research, has also opened up new possibilities for treating diseases and improving human health.\\n\\nOverall, the history of medicine is one of constant progress and innovation, with new discoveries and treatments building upon the knowledge and work of those who came before them.'"
      ]
     },
     "execution_count": 7,
     "metadata": {},
     "output_type": "execute_result"
    }
   ],
   "source": [
    "llm('Tell me about the history of Medicine')"
   ]
  },
  {
   "cell_type": "code",
   "execution_count": 10,
   "id": "55e19e3c-21d2-4de1-9b9d-32e2682d780e",
   "metadata": {},
   "outputs": [
    {
     "data": {
      "text/plain": [
       "'\\nThere are many individuals who have been deemed \"weird\" by society, often due to their unique behaviors or beliefs. Some examples include:\\n\\n* John C. Lilly, a researcher and pioneer in the field of altered states of consciousness who conducted experiments with sensory deprivation tanks\\n* Robert Wadlow, also known as the \"Alton Giant,\" was a tall man who measured 8 feet 11 inches at the time of his death at age 22\\n* Terence McKenna, a philosopher and psychonaut who has written extensively about altered states of consciousness and psychedelic experiences\\n* David Beckham, a former professional soccer player known for his eccentric fashion choices and hairstyles\\n* Dwight Schrute, played by Rainn Wilson on the TV show \"The Office,\" is known for his obsession with beets, bears, and Battlestar Galactica.\\n\\nIt\\'s important to note that what may seem weird or unusual to one person may not necessarily be so to another, and it can also depend on cultural context and personal experiences.'"
      ]
     },
     "execution_count": 10,
     "metadata": {},
     "output_type": "execute_result"
    }
   ],
   "source": [
    "llm('Who is weirdest human alive ')"
   ]
  },
  {
   "cell_type": "code",
   "execution_count": 13,
   "id": "577600e5-e2dc-42a8-b1b7-7fdfa977d4e9",
   "metadata": {},
   "outputs": [
    {
     "data": {
      "text/plain": [
       "True"
      ]
     },
     "execution_count": 13,
     "metadata": {},
     "output_type": "execute_result"
    }
   ],
   "source": [
    "from langchain.agents import initialize_agent, Tool, AgentType\n",
    "from dotenv import load_dotenv\n",
    "import os\n",
    "\n",
    "load_dotenv()\n"
   ]
  },
  {
   "cell_type": "code",
   "execution_count": 12,
   "id": "d58d3982-d7bf-4b85-bfd3-826af2935887",
   "metadata": {},
   "outputs": [],
   "source": [
    "from langchain.chains import LLMChain\n",
    "from langchain.prompts import (\n",
    "    ChatPromptTemplate,\n",
    "    HumanMessagePromptTemplate,\n",
    "    MessagesPlaceholder,\n",
    "    SystemMessagePromptTemplate,\n",
    "    PromptTemplate,\n",
    ")\n",
    "from langchain.schema import SystemMessage\n",
    "\n",
    "\n",
    "prompt = ChatPromptTemplate.from_messages(\n",
    "    [\n",
    "        SystemMessage(\n",
    "            content=\n",
    "            \"\"\"You are IMCI assistant, a very powerful health assistant. Answer the questions in a polite and friendly manner. \n",
    "On salutation, you should respond with a greeting indicating that you are a IMCI assistant from Tanzania AI lab. \n",
    "Your responses must be well formatted and in a clear way and in the language used to by user in the conversation.\n",
    "You are tasked to be helpful assistant providing guide on how to provide treatment to children in a step wise guideline on Integrated Management of Childhood Illness. \n",
    "Your response must be formated to remve any markdowns and in a format that is compatible with whatsapp.\n",
    "Use a search tool provided to find articles retaled to the question asked whenever a question is asked. Provide links and summary of the articles found.\n",
    "\"\"\"\n",
    "        ),  # The persistent system prompt\n",
    "        HumanMessagePromptTemplate.from_template(\n",
    "            \"{human_input}\"\n",
    "        ),  # Where the human input will injectd\n",
    "    ],\n",
    ")\n",
    "\n",
    "# conversation = LLMChain(\n",
    "#     llm=llm,\n",
    "#     prompt=prompt,\n",
    "#     verbose=False,\n",
    "# )"
   ]
  },
  {
   "cell_type": "code",
   "execution_count": 13,
   "id": "0e3dfe3e-81e1-431d-a8cd-537568f74fb0",
   "metadata": {},
   "outputs": [
    {
     "data": {
      "text/plain": [
       "'\\nAs a career advisor AI, I have access to vast amounts of information and can analyze data quickly and accurately. This allows me to provide personalized recommendations based on your unique skills, experiences, and goals. Additionally, I am constantly learning from new data and feedback, so I am able to adapt my advice over time and provide the most up-to-date and relevant guidance.'"
      ]
     },
     "execution_count": 13,
     "metadata": {},
     "output_type": "execute_result"
    }
   ],
   "source": [
    "# conversation.predict(human_input='What makes you so unique')"
   ]
  },
  {
   "cell_type": "code",
   "execution_count": 15,
   "id": "013856b2",
   "metadata": {},
   "outputs": [],
   "source": [
    "from langchain.utilities import SerpAPIWrapper,GoogleSearchAPIWrapper"
   ]
  },
  {
   "cell_type": "code",
   "execution_count": 37,
   "id": "70097511",
   "metadata": {},
   "outputs": [],
   "source": [
    "Number_of_results=3\n",
    "search=SerpAPIWrapper(\n",
    "  serpapi_api_key=os.getenv(\"SERPAPI-API-KEY\"),\n",
    "  params= {\n",
    "    \"engine\": \"google_scholar\",\n",
    "    \"google_domain\": \"google.com\",\n",
    "    \"gl\": \"us\",\n",
    "    \"hl\": \"en\",\n",
    "    \"num\": Number_of_results},\n",
    "    )\n",
    "\n",
    "def se\n",
    "tools = [Tool(\n",
    "  name = \"HelpfulSearch\",\n",
    "  func=search.run,\n",
    "  description=\"Useful when you want to search for related or alternative medical solution\",\n",
    "    )]\n"
   ]
  },
  {
   "cell_type": "code",
   "execution_count": 38,
   "id": "b5d8d099",
   "metadata": {},
   "outputs": [],
   "source": [
    "res=search.results(\"alternative to paracetamol\")"
   ]
  },
  {
   "cell_type": "code",
   "execution_count": 43,
   "id": "c729d31f",
   "metadata": {},
   "outputs": [],
   "source": [
    "final_res={ link.get(\"position\"): { \"title\":link.get('title'), \"link\":link.get(\"link\"), \"summary\": link.get(\"snippets\"),\"authors\":link.get(\"publication_info\").get(\"summary\")  } for link in res.get(\"organic_results\")}"
   ]
  },
  {
   "cell_type": "code",
   "execution_count": 44,
   "id": "a9fd22fe",
   "metadata": {},
   "outputs": [
    {
     "name": "stdout",
     "output_type": "stream",
     "text": [
      "{0: {'title': 'An alternative drug (paracetamol) in the management of patent ductus arteriosus in ibuprofen-resistant or contraindicated preterm infants', 'link': 'https://fn.bmj.com/content/98/1/F94.extract', 'summary': None, 'authors': 'MY Oncel, S Yurttutan, N Uras, N Altug… - Archives of Disease in …, 2013 - fn.bmj.com'}, 1: {'title': 'Oral challenge with alternative nonsteroidal anti-inflammatory drugs (NSAIDs) and paracetamol in patients intolerant to these agents', 'link': 'https://link.springer.com/article/10.2165/00003495-199300461-00065', 'summary': None, 'authors': 'M Ispano, A Fontana, J Scibilia, C Ortolani - Drugs, 1993 - Springer'}, 2: {'title': 'Paracetamol–An old drug with new mechanisms of action', 'link': 'https://onlinelibrary.wiley.com/doi/abs/10.1111/1440-1681.13392', 'summary': None, 'authors': 'GW Przybyła, KA Szychowski… - Clinical and Experimental …, 2021 - Wiley Online Library'}}\n"
     ]
    }
   ],
   "source": [
    "print(final_res)"
   ]
  },
  {
   "cell_type": "code",
   "execution_count": 36,
   "id": "389aa5fd",
   "metadata": {},
   "outputs": [
    {
     "data": {
      "text/plain": [
       "[{'position': 0,\n",
       "  'title': 'An alternative drug (paracetamol) in the management of patent ductus arteriosus in ibuprofen-resistant or contraindicated preterm infants',\n",
       "  'result_id': '-xD3W-K3u1MJ',\n",
       "  'link': 'https://fn.bmj.com/content/98/1/F94.extract',\n",
       "  'snippet': '… of paracetamol for the management of hsPDA. Based on our results, we suggest that paracetamol seems to be a valid alternative to … If paracetamol is proven to be effective in future …',\n",
       "  'publication_info': {'summary': 'MY Oncel, S Yurttutan, N Uras, N Altug… - Archives of Disease in …, 2013 - fn.bmj.com',\n",
       "   'authors': [{'name': 'MY Oncel',\n",
       "     'link': 'https://scholar.google.com/citations?user=skCGtWgAAAAJ&hl=en&num=1&oi=sra',\n",
       "     'serpapi_scholar_link': 'https://serpapi.com/search.json?author_id=skCGtWgAAAAJ&engine=google_scholar_author&hl=en',\n",
       "     'author_id': 'skCGtWgAAAAJ'},\n",
       "    {'name': 'S Yurttutan',\n",
       "     'link': 'https://scholar.google.com/citations?user=_UPcjMIAAAAJ&hl=en&num=1&oi=sra',\n",
       "     'serpapi_scholar_link': 'https://serpapi.com/search.json?author_id=_UPcjMIAAAAJ&engine=google_scholar_author&hl=en',\n",
       "     'author_id': '_UPcjMIAAAAJ'}]},\n",
       "  'resources': [{'title': 'psu.edu',\n",
       "    'file_format': 'PDF',\n",
       "    'link': 'https://citeseerx.ist.psu.edu/document?repid=rep1&type=pdf&doi=4ad4667fdcfcc3d2964fda7fe2c2f5712e008064'}],\n",
       "  'inline_links': {'serpapi_cite_link': 'https://serpapi.com/search.json?engine=google_scholar_cite&hl=en&q=-xD3W-K3u1MJ',\n",
       "   'cited_by': {'total': 109,\n",
       "    'link': 'https://scholar.google.com/scholar?cites=6033618308626321659&as_sdt=2005&sciodt=0,5&hl=en&num=1',\n",
       "    'cites_id': '6033618308626321659',\n",
       "    'serpapi_scholar_link': 'https://serpapi.com/search.json?as_sdt=2005&cites=6033618308626321659&engine=google_scholar&hl=en&num=1'},\n",
       "   'related_pages_link': 'https://scholar.google.com/scholar?q=related:-xD3W-K3u1MJ:scholar.google.com/&scioq=alternative+to+paracetamol&hl=en&num=1&as_sdt=0,5',\n",
       "   'serpapi_related_pages_link': 'https://serpapi.com/search.json?as_sdt=0%2C5&engine=google_scholar&hl=en&num=1&q=related%3A-xD3W-K3u1MJ%3Ascholar.google.com%2F',\n",
       "   'versions': {'total': 9,\n",
       "    'link': 'https://scholar.google.com/scholar?cluster=6033618308626321659&hl=en&num=1&as_sdt=0,5',\n",
       "    'cluster_id': '6033618308626321659',\n",
       "    'serpapi_scholar_link': 'https://serpapi.com/search.json?as_sdt=0%2C5&cluster=6033618308626321659&engine=google_scholar&hl=en&num=1'}}}]"
      ]
     },
     "execution_count": 36,
     "metadata": {},
     "output_type": "execute_result"
    }
   ],
   "source": [
    "res.get(\"organic_results\")"
   ]
  },
  {
   "cell_type": "code",
   "execution_count": null,
   "id": "64e88262",
   "metadata": {},
   "outputs": [],
   "source": [
    "def parse_json(text:):"
   ]
  },
  {
   "cell_type": "code",
   "execution_count": 14,
   "id": "ba27802e-a10c-432c-9ec0-77d6473c1da1",
   "metadata": {},
   "outputs": [],
   "source": [
    "# search_tool = Tool(\n",
    "#     name='This a general tool for asking quesiton which does not require searching from google',\n",
    "#     func=lambda q: str(conversation.predict(human_input=q)),\n",
    "#     description = \"\"\"\n",
    "#     Use this tool only when the response does not require a search engine response \n",
    "#     and can be answered using model internal knowledge\n",
    "#     \"\"\",\n",
    "#         return_direct=True,\n",
    "# )"
   ]
  },
  {
   "cell_type": "code",
   "execution_count": 32,
   "id": "f0c2d3d2-4b5d-4dc5-9a07-27c4f375aa1f",
   "metadata": {},
   "outputs": [],
   "source": [
    "from langchain.chains.conversation.memory import (\n",
    "    ConversationBufferMemory,\n",
    "    ConversationBufferWindowMemory,\n",
    ")\n",
    "\n",
    "memory = ConversationBufferWindowMemory(\n",
    "                    memory_key=\"chat_history\", return_messages=True\n",
    "                )\n",
    "\n",
    "\n",
    "sarufi_chat_agent = initialize_agent(\n",
    "    tools=tools,\n",
    "    llm=llm,\n",
    "    agent=AgentType.CHAT_CONVERSATIONAL_REACT_DESCRIPTION,\n",
    "    memory=memory,\n",
    "    verbose=True,\n",
    "    # max_iterations=3,\n",
    "    # early_stopping_method='generate',\n",
    "    # handle_parsing_errors=True,\n",
    ")"
   ]
  },
  {
   "cell_type": "code",
   "execution_count": 33,
   "id": "b93ef268-8848-4d39-ac61-6141614f1705",
   "metadata": {},
   "outputs": [
    {
     "name": "stdout",
     "output_type": "stream",
     "text": [
      "\n",
      "\n",
      "\u001b[1m> Entering new AgentExecutor chain...\u001b[0m\n",
      "```json\n",
      "{\n",
      "    \"action\": \"HelpfulSearch\",\n",
      "    \"action_input\": \"alternative medicines for asthma\"\n",
      "}\n",
      "```\u001b[32;1m\u001b[1;3m```json\n",
      "{\n",
      "    \"action\": \"HelpfulSearch\",\n",
      "    \"action_input\": \"alternative medicines for asthma\"\n",
      "}\n",
      "```\u001b[0m\n",
      "Observation: \u001b[36;1m\u001b[1;3m['… with methods of complementary and alternative medicine (CAM). … the most popular alternative modalities in asthma and the … with asthma are attracted by complementary and alternative …']\u001b[0m\n",
      "Thought:```json\n",
      "{\n",
      "    \"action\": \"Final Answer\",\n",
      "    \"action_input\": \"The most popular alternative modalities in asthma and complementary and alternative medicine are the ones that use natural remedies such as herbal extracts, acupuncture, homeopathy, and yoga.\"\n",
      "}\n",
      "```\u001b[32;1m\u001b[1;3m```json\n",
      "{\n",
      "    \"action\": \"Final Answer\",\n",
      "    \"action_input\": \"The most popular alternative modalities in asthma and complementary and alternative medicine are the ones that use natural remedies such as herbal extracts, acupuncture, homeopathy, and yoga.\"\n",
      "}\n",
      "```\u001b[0m\n",
      "\n",
      "\u001b[1m> Finished chain.\u001b[0m\n"
     ]
    },
    {
     "data": {
      "text/plain": [
       "'The most popular alternative modalities in asthma and complementary and alternative medicine are the ones that use natural remedies such as herbal extracts, acupuncture, homeopathy, and yoga.'"
      ]
     },
     "execution_count": 33,
     "metadata": {},
     "output_type": "execute_result"
    }
   ],
   "source": [
    "sarufi_chat_agent.run(input='What alteranative medicines to treating asthama')"
   ]
  },
  {
   "cell_type": "code",
   "execution_count": 21,
   "id": "ecaa0f7c-8aae-4ae7-a192-56b046666ba7",
   "metadata": {},
   "outputs": [
    {
     "name": "stdout",
     "output_type": "stream",
     "text": [
      "name='Serp Search API' description='Use this tool to answer all questions asked by the user' func=<bound method SerpAPIWrapper.run of SerpAPIWrapper(search_engine=<class 'serpapi.google_search.GoogleSearch'>, params={'engine': 'google_scholar', 'google_domain': 'google.com', 'gl': 'us', 'hl': 'en', 'num': 3, 'safe': 'active'}, serpapi_api_key='d0fa4c8a47b66940cde1610ed5c0b7de4ed5fa9a0aeb46f75e3dbbe24ae78c88', aiosession=None)>\n"
     ]
    }
   ],
   "source": [
    "from langchain.utilities import SerpAPIWrapper\n",
    "name = \"Serp Search API\"\n",
    "description = \"Use this tool to answer all questions asked by the user\"\n",
    "search = SerpAPIWrapper(\n",
    "    serpapi_api_key=\"d0fa4c8a47b66940cde1610ed5c0b7de4ed5fa9a0aeb46f75e3dbbe24ae78c88\",\n",
    "    params={\n",
    "        \"engine\": \"google_scholar\",\n",
    "        \"google_domain\": \"google.com\",\n",
    "        \"gl\": \"us\",\n",
    "        \"hl\": \"en\",\n",
    "        \"num\": 3,\n",
    "        \"safe\": \"active\",\n",
    "    },\n",
    ")\n",
    "search_engine_tool = Tool(name=name, description=description, func=search.run)\n",
    "\n",
    "\n",
    "sarufi_chat_agent = initialize_agent(\n",
    "    tools=[search_engine_tool, ],\n",
    "    llm=llm,\n",
    "    agent=AgentType.CHAT_CONVERSATIONAL_REACT_DESCRIPTION,\n",
    "    memory=memory,\n",
    "    verbose=True,\n",
    "    max_iterations=3,\n",
    "    early_stopping_method='generate',\n",
    "    handle_parsing_errors=True,\n",
    ")\n",
    "\n",
    "print(search_engine_tool)"
   ]
  },
  {
   "cell_type": "code",
   "execution_count": 22,
   "id": "7f7063f9-781a-41a4-9ad2-f4dda5d185e4",
   "metadata": {},
   "outputs": [
    {
     "name": "stdout",
     "output_type": "stream",
     "text": [
      "\n",
      "\n",
      "\u001b[1m> Entering new AgentExecutor chain...\u001b[0m\n",
      "\u001b[32;1m\u001b[1;3m{\n",
      "\"action\": \"Final Answer\",\n",
      "\"action_input\": \"I can use the Serp Search API to find interesting research papers on alternative treatments for fever in children.\"\n",
      "}\u001b[0m\n",
      "\n",
      "\u001b[1m> Finished chain.\u001b[0m\n"
     ]
    },
    {
     "data": {
      "text/plain": [
       "'I can use the Serp Search API to find interesting research papers on alternative treatments for fever in children.'"
      ]
     },
     "execution_count": 22,
     "metadata": {},
     "output_type": "execute_result"
    }
   ],
   "source": [
    "instructions = \"You are IMCI assistant, a very powerful health assistant. Answer the questions in a polite and friendly manner. Your responses must be  clear and concise and in the language used to by user in the conversation. You are tasked to be helpful assistant providing guide on how to provide treatment to children in a step wise guideline on Integrated Management of Childhood Illness. Use a search tool provided to find articles related to the question asked whenever a question is asked. Provide links and summary of the articles found, You must provided response as numbered paragraphs. \"\n",
    "query_str= \"What are intersting research papers on alternative to paracetamol for treating fever in children\"\n",
    "question = (\n",
    "    instructions\n",
    "    + f\"\"\"\n",
    "    [Respond to the following question in a way that is consistent with the context provided\n",
    "    and feel natural and conversational to human and also follow instruction.] \n",
    "    \\n\\n<<<{query_str}>>>\n",
    "\"\"\"\n",
    ")\n",
    "\n",
    "sarufi_chat_agent.run(input=question)"
   ]
  },
  {
   "cell_type": "code",
   "execution_count": 19,
   "id": "4b5050f0-039d-469c-a76f-fd5bc47621e3",
   "metadata": {},
   "outputs": [
    {
     "name": "stdout",
     "output_type": "stream",
     "text": [
      "Requirement already satisfied: google-search-results in /Users/neurotech/anaconda3/envs/NLP/lib/python3.11/site-packages (2.4.2)\n",
      "Requirement already satisfied: requests in /Users/neurotech/anaconda3/envs/NLP/lib/python3.11/site-packages (from google-search-results) (2.31.0)\n",
      "Requirement already satisfied: charset-normalizer<4,>=2 in /Users/neurotech/anaconda3/envs/NLP/lib/python3.11/site-packages (from requests->google-search-results) (3.3.2)\n",
      "Requirement already satisfied: idna<4,>=2.5 in /Users/neurotech/anaconda3/envs/NLP/lib/python3.11/site-packages (from requests->google-search-results) (3.6)\n",
      "Requirement already satisfied: urllib3<3,>=1.21.1 in /Users/neurotech/anaconda3/envs/NLP/lib/python3.11/site-packages (from requests->google-search-results) (2.1.0)\n",
      "Requirement already satisfied: certifi>=2017.4.17 in /Users/neurotech/anaconda3/envs/NLP/lib/python3.11/site-packages (from requests->google-search-results) (2023.11.17)\n"
     ]
    }
   ],
   "source": [
    "!pip install google-search-results"
   ]
  },
  {
   "cell_type": "code",
   "execution_count": null,
   "id": "cac69168-1f6d-472a-a738-37edbb5910b0",
   "metadata": {},
   "outputs": [],
   "source": []
  }
 ],
 "metadata": {
  "kernelspec": {
   "display_name": "Python 3 (ipykernel)",
   "language": "python",
   "name": "python3"
  },
  "language_info": {
   "codemirror_mode": {
    "name": "ipython",
    "version": 3
   },
   "file_extension": ".py",
   "mimetype": "text/x-python",
   "name": "python",
   "nbconvert_exporter": "python",
   "pygments_lexer": "ipython3",
   "version": "3.11.5"
  }
 },
 "nbformat": 4,
 "nbformat_minor": 5
}
