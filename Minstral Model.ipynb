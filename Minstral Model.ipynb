{
 "cells": [
  {
   "cell_type": "code",
   "execution_count": null,
   "id": "703fc221",
   "metadata": {},
   "outputs": [],
   "source": [
    "# pachages\n"
   ]
  },
  {
   "cell_type": "code",
   "execution_count": 1,
   "id": "d05e7e3e-9d56-429b-af3a-661e5036a7df",
   "metadata": {},
   "outputs": [],
   "source": [
    "from langchain.callbacks.manager import CallbackManager\n",
    "from langchain.callbacks.streaming_stdout import StreamingStdOutCallbackHandler\n",
    "from langchain.llms import Ollama\n"
   ]
  },
  {
   "cell_type": "code",
   "execution_count": 8,
   "id": "219189e2-a318-49b0-870c-a699b41c378a",
   "metadata": {},
   "outputs": [],
   "source": [
    "llm = Ollama(\n",
    "    model=\"mistral\"\n",
    ")\n",
    "# callback_manager=CallbackManager([StreamingStdOutCallbackHandler()])"
   ]
  },
  {
   "cell_type": "code",
   "execution_count": 9,
   "id": "3095df11-c0a5-49fb-8099-10291b96fbe2",
   "metadata": {},
   "outputs": [
    {
     "data": {
      "text/plain": [
       "\"\\nMedicine has a long and rich history, dating back thousands of years. Early forms of medicine were practiced by various ancient civilizations, such as the Egyptians, Greeks, Romans, Chinese, and Indians. These early practitioners used a variety of methods to treat illnesses, including herbal remedies, surgery, and magical or spiritual practices.\\n\\nOne of the earliest known medical texts is the Ebers Papyrus, which dates back to around 1500 BCE and was written in ancient Egyptian. This papyrus contains information on various aspects of medicine, including diagnosis, treatment, and prevention of diseases.\\n\\nIn ancient Greece, the father of Western medicine is considered to be Hippocrates (460-370 BCE). He is known for his Hippocratic Oath, which outlines the principles of medical ethics. Other notable Greek physicians include Galen (129-216 CE), who made important contributions to the fields of anatomy and pathology, and Asclepius (600-500 BCE), the founder of the first hospitals in ancient Greece.\\n\\nIn China, medicine has a history dating back over 4,000 years. The Yellow Emperor's Classic of Internal Medicine, written around 200 BCE, is one of the most important texts in traditional Chinese medicine. This text contains information on diagnosis, treatment, and prevention of diseases, as well as advice on diet and lifestyle.\\n\\nIn India, Ayurveda is considered to be one of the oldest forms of medicine. It dates back over 5,000 years and was developed by the sage Charaka. Ayurveda focuses on the balance of the body's three doshas (Vata, Pitta, and Kapha) and the use of herbs, diet, and lifestyle changes to promote health and prevent disease.\\n\\nThroughout history, medicine has evolved and developed as new knowledge and technologies have been discovered. The Renaissance period saw a renewed interest in classical Greek and Roman medicine, while the Scientific Revolution brought about new methods of experimentation and discovery. In the 20th century, advances in technology led to the development of modern medicine, including antibiotics, vaccines, and surgical procedures.\\n\\nToday, medicine continues to evolve, with new treatments and technologies being developed all the time. Medical professionals use a combination of traditional knowledge and modern science to provide the best possible care to their patients.\""
      ]
     },
     "execution_count": 9,
     "metadata": {},
     "output_type": "execute_result"
    }
   ],
   "source": [
    "llm('Tell me about the history of Medicine')"
   ]
  },
  {
   "cell_type": "code",
   "execution_count": 10,
   "id": "55e19e3c-21d2-4de1-9b9d-32e2682d780e",
   "metadata": {},
   "outputs": [
    {
     "data": {
      "text/plain": [
       "'\\nThere are many individuals who have been deemed \"weird\" by society, often due to their unique behaviors or beliefs. Some examples include:\\n\\n* John C. Lilly, a researcher and pioneer in the field of altered states of consciousness who conducted experiments with sensory deprivation tanks\\n* Robert Wadlow, also known as the \"Alton Giant,\" was a tall man who measured 8 feet 11 inches at the time of his death at age 22\\n* Terence McKenna, a philosopher and psychonaut who has written extensively about altered states of consciousness and psychedelic experiences\\n* David Beckham, a former professional soccer player known for his eccentric fashion choices and hairstyles\\n* Dwight Schrute, played by Rainn Wilson on the TV show \"The Office,\" is known for his obsession with beets, bears, and Battlestar Galactica.\\n\\nIt\\'s important to note that what may seem weird or unusual to one person may not necessarily be so to another, and it can also depend on cultural context and personal experiences.'"
      ]
     },
     "execution_count": 10,
     "metadata": {},
     "output_type": "execute_result"
    }
   ],
   "source": [
    "llm('Who is weirdest human alive ')"
   ]
  },
  {
   "cell_type": "code",
   "execution_count": 11,
   "id": "577600e5-e2dc-42a8-b1b7-7fdfa977d4e9",
   "metadata": {},
   "outputs": [],
   "source": [
    "from langchain.agents import initialize_agent, Tool, AgentType\n"
   ]
  },
  {
   "cell_type": "code",
   "execution_count": 12,
   "id": "d58d3982-d7bf-4b85-bfd3-826af2935887",
   "metadata": {},
   "outputs": [],
   "source": [
    "from langchain.chains import LLMChain\n",
    "from langchain.prompts import (\n",
    "    ChatPromptTemplate,\n",
    "    HumanMessagePromptTemplate,\n",
    "    MessagesPlaceholder,\n",
    "    SystemMessagePromptTemplate,\n",
    "    PromptTemplate,\n",
    ")\n",
    "from langchain.schema import SystemMessage\n",
    "\n",
    "\n",
    "prompt = ChatPromptTemplate.from_messages(\n",
    "    [\n",
    "        SystemMessage(\n",
    "            content='you are a very smart AI career advisor'\n",
    "        ),  # The persistent system prompt\n",
    "        HumanMessagePromptTemplate.from_template(\n",
    "            \"{human_input}\"\n",
    "        ),  # Where the human input will injectd\n",
    "    ],\n",
    ")\n",
    "\n",
    "conversation = LLMChain(\n",
    "    llm=llm,\n",
    "    prompt=prompt,\n",
    "    verbose=False,\n",
    ")"
   ]
  },
  {
   "cell_type": "code",
   "execution_count": 13,
   "id": "0e3dfe3e-81e1-431d-a8cd-537568f74fb0",
   "metadata": {},
   "outputs": [
    {
     "data": {
      "text/plain": [
       "'\\nAs a career advisor AI, I have access to vast amounts of information and can analyze data quickly and accurately. This allows me to provide personalized recommendations based on your unique skills, experiences, and goals. Additionally, I am constantly learning from new data and feedback, so I am able to adapt my advice over time and provide the most up-to-date and relevant guidance.'"
      ]
     },
     "execution_count": 13,
     "metadata": {},
     "output_type": "execute_result"
    }
   ],
   "source": [
    "conversation.predict(human_input='What makes you so unique')"
   ]
  },
  {
   "cell_type": "code",
   "execution_count": 14,
   "id": "ba27802e-a10c-432c-9ec0-77d6473c1da1",
   "metadata": {},
   "outputs": [],
   "source": [
    "search_tool = Tool(\n",
    "    name='This a general tool for asking quesiton which does not require searching from google',\n",
    "    func=lambda q: str(conversation.predict(human_input=q)),\n",
    "    description = \"\"\"\n",
    "    Use this tool only when the response does not require a search engine response \n",
    "    and can be answered using model internal knowledge\n",
    "    \"\"\",\n",
    "        return_direct=True,\n",
    ")"
   ]
  },
  {
   "cell_type": "code",
   "execution_count": 15,
   "id": "f0c2d3d2-4b5d-4dc5-9a07-27c4f375aa1f",
   "metadata": {},
   "outputs": [],
   "source": [
    "from langchain.chains.conversation.memory import (\n",
    "    ConversationBufferMemory,\n",
    "    ConversationBufferWindowMemory,\n",
    ")\n",
    "\n",
    "memory = ConversationBufferWindowMemory(\n",
    "                    memory_key=\"chat_history\", return_messages=True\n",
    "                )\n",
    "\n",
    "\n",
    "sarufi_chat_agent = initialize_agent(\n",
    "    tools=[search_tool],\n",
    "    llm=llm,\n",
    "    agent=AgentType.CHAT_CONVERSATIONAL_REACT_DESCRIPTION,\n",
    "    memory=memory,\n",
    "    verbose=True,\n",
    "    max_iterations=3,\n",
    "    early_stopping_method='generate',\n",
    "    handle_parsing_errors=True,\n",
    ")"
   ]
  },
  {
   "cell_type": "code",
   "execution_count": 16,
   "id": "b93ef268-8848-4d39-ac61-6141614f1705",
   "metadata": {},
   "outputs": [
    {
     "name": "stdout",
     "output_type": "stream",
     "text": [
      "\n",
      "\n",
      "\u001b[1m> Entering new AgentExecutor chain...\u001b[0m\n",
      "\u001b[32;1m\u001b[1;3m{\n",
      "    \"action\": \"Final Answer\",\n",
      "    \"action_input\": \"There are many alternative medicines that can be used to treat asthma. Some of these include acupuncture, chiropractic care, homeopathy, and herbal medicine.\"\n",
      "}\u001b[0m\n",
      "\n",
      "\u001b[1m> Finished chain.\u001b[0m\n"
     ]
    },
    {
     "data": {
      "text/plain": [
       "'There are many alternative medicines that can be used to treat asthma. Some of these include acupuncture, chiropractic care, homeopathy, and herbal medicine.'"
      ]
     },
     "execution_count": 16,
     "metadata": {},
     "output_type": "execute_result"
    }
   ],
   "source": [
    "sarufi_chat_agent.run(input='What alteranative medicines to treating asthama')"
   ]
  },
  {
   "cell_type": "code",
   "execution_count": 21,
   "id": "ecaa0f7c-8aae-4ae7-a192-56b046666ba7",
   "metadata": {},
   "outputs": [
    {
     "name": "stdout",
     "output_type": "stream",
     "text": [
      "name='Serp Search API' description='Use this tool to answer all questions asked by the user' func=<bound method SerpAPIWrapper.run of SerpAPIWrapper(search_engine=<class 'serpapi.google_search.GoogleSearch'>, params={'engine': 'google_scholar', 'google_domain': 'google.com', 'gl': 'us', 'hl': 'en', 'num': 3, 'safe': 'active'}, serpapi_api_key='d0fa4c8a47b66940cde1610ed5c0b7de4ed5fa9a0aeb46f75e3dbbe24ae78c88', aiosession=None)>\n"
     ]
    }
   ],
   "source": [
    "from langchain.utilities import SerpAPIWrapper\n",
    "name = \"Serp Search API\"\n",
    "description = \"Use this tool to answer all questions asked by the user\"\n",
    "search = SerpAPIWrapper(\n",
    "    serpapi_api_key=\"d0fa4c8a47b66940cde1610ed5c0b7de4ed5fa9a0aeb46f75e3dbbe24ae78c88\",\n",
    "    params={\n",
    "        \"engine\": \"google_scholar\",\n",
    "        \"google_domain\": \"google.com\",\n",
    "        \"gl\": \"us\",\n",
    "        \"hl\": \"en\",\n",
    "        \"num\": 3,\n",
    "        \"safe\": \"active\",\n",
    "    },\n",
    ")\n",
    "search_engine_tool = Tool(name=name, description=description, func=search.run)\n",
    "\n",
    "\n",
    "sarufi_chat_agent = initialize_agent(\n",
    "    tools=[search_engine_tool, ],\n",
    "    llm=llm,\n",
    "    agent=AgentType.CHAT_CONVERSATIONAL_REACT_DESCRIPTION,\n",
    "    memory=memory,\n",
    "    verbose=True,\n",
    "    max_iterations=3,\n",
    "    early_stopping_method='generate',\n",
    "    handle_parsing_errors=True,\n",
    ")\n",
    "\n",
    "print(search_engine_tool)"
   ]
  },
  {
   "cell_type": "code",
   "execution_count": 22,
   "id": "7f7063f9-781a-41a4-9ad2-f4dda5d185e4",
   "metadata": {},
   "outputs": [
    {
     "name": "stdout",
     "output_type": "stream",
     "text": [
      "\n",
      "\n",
      "\u001b[1m> Entering new AgentExecutor chain...\u001b[0m\n",
      "\u001b[32;1m\u001b[1;3m{\n",
      "\"action\": \"Final Answer\",\n",
      "\"action_input\": \"I can use the Serp Search API to find interesting research papers on alternative treatments for fever in children.\"\n",
      "}\u001b[0m\n",
      "\n",
      "\u001b[1m> Finished chain.\u001b[0m\n"
     ]
    },
    {
     "data": {
      "text/plain": [
       "'I can use the Serp Search API to find interesting research papers on alternative treatments for fever in children.'"
      ]
     },
     "execution_count": 22,
     "metadata": {},
     "output_type": "execute_result"
    }
   ],
   "source": [
    "instructions = \"You are IMCI assistant, a very powerful health assistant. Answer the questions in a polite and friendly manner. Your responses must be  clear and concise and in the language used to by user in the conversation. You are tasked to be helpful assistant providing guide on how to provide treatment to children in a step wise guideline on Integrated Management of Childhood Illness. Use a search tool provided to find articles related to the question asked whenever a question is asked. Provide links and summary of the articles found, You must provided response as numbered paragraphs. \"\n",
    "query_str= \"What are intersting research papers on alternative to paracetamol for treating fever in children\"\n",
    "question = (\n",
    "    instructions\n",
    "    + f\"\"\"\n",
    "    [Respond to the following question in a way that is consistent with the context provided\n",
    "    and feel natural and conversational to human and also follow instruction.] \n",
    "    \\n\\n<<<{query_str}>>>\n",
    "\"\"\"\n",
    ")\n",
    "\n",
    "sarufi_chat_agent.run(input=question)"
   ]
  },
  {
   "cell_type": "code",
   "execution_count": 19,
   "id": "4b5050f0-039d-469c-a76f-fd5bc47621e3",
   "metadata": {},
   "outputs": [
    {
     "name": "stdout",
     "output_type": "stream",
     "text": [
      "Requirement already satisfied: google-search-results in /Users/neurotech/anaconda3/envs/NLP/lib/python3.11/site-packages (2.4.2)\n",
      "Requirement already satisfied: requests in /Users/neurotech/anaconda3/envs/NLP/lib/python3.11/site-packages (from google-search-results) (2.31.0)\n",
      "Requirement already satisfied: charset-normalizer<4,>=2 in /Users/neurotech/anaconda3/envs/NLP/lib/python3.11/site-packages (from requests->google-search-results) (3.3.2)\n",
      "Requirement already satisfied: idna<4,>=2.5 in /Users/neurotech/anaconda3/envs/NLP/lib/python3.11/site-packages (from requests->google-search-results) (3.6)\n",
      "Requirement already satisfied: urllib3<3,>=1.21.1 in /Users/neurotech/anaconda3/envs/NLP/lib/python3.11/site-packages (from requests->google-search-results) (2.1.0)\n",
      "Requirement already satisfied: certifi>=2017.4.17 in /Users/neurotech/anaconda3/envs/NLP/lib/python3.11/site-packages (from requests->google-search-results) (2023.11.17)\n"
     ]
    }
   ],
   "source": [
    "!pip install google-search-results"
   ]
  },
  {
   "cell_type": "code",
   "execution_count": null,
   "id": "cac69168-1f6d-472a-a738-37edbb5910b0",
   "metadata": {},
   "outputs": [],
   "source": []
  }
 ],
 "metadata": {
  "kernelspec": {
   "display_name": "Python 3 (ipykernel)",
   "language": "python",
   "name": "python3"
  },
  "language_info": {
   "codemirror_mode": {
    "name": "ipython",
    "version": 3
   },
   "file_extension": ".py",
   "mimetype": "text/x-python",
   "name": "python",
   "nbconvert_exporter": "python",
   "pygments_lexer": "ipython3",
   "version": "3.11.5"
  }
 },
 "nbformat": 4,
 "nbformat_minor": 5
}
