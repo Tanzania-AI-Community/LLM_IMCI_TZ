{
 "cells": [
  {
   "cell_type": "markdown",
   "id": "de3fa35d",
   "metadata": {},
   "source": [
    "## Mistral IMCI chatbot\n",
    "\n",
    "This is a chatbot for IMCI (Integrated Management of Childhood Illness) chatbot implemented in python using [Mistral model](https://mistral.ai/)"
   ]
  },
  {
   "cell_type": "markdown",
   "id": "06c876a9",
   "metadata": {},
   "source": [
    "## Impelementation\n",
    "\n",
    "Lets go through the implementation of the chatbot step by step."
   ]
  },
  {
   "cell_type": "code",
   "execution_count": null,
   "id": "99cfec7f",
   "metadata": {},
   "outputs": [],
   "source": [
    "!pip install langchain # To create tools\n",
    "!pip install google-search-results # to be used for serpiAPI tool as the default search engine"
   ]
  },
  {
   "cell_type": "code",
   "execution_count": 1,
   "id": "d05e7e3e-9d56-429b-af3a-661e5036a7df",
   "metadata": {},
   "outputs": [],
   "source": [
    "# import necessary modules\n",
    "from langchain.callbacks.manager import CallbackManager\n",
    "from langchain.callbacks.streaming_stdout import StreamingStdOutCallbackHandler\n",
    "from langchain.llms import Ollama\n"
   ]
  },
  {
   "cell_type": "code",
   "execution_count": 13,
   "id": "219189e2-a318-49b0-870c-a699b41c378a",
   "metadata": {},
   "outputs": [],
   "source": [
    "# Initialize LLM\n",
    "llm = Ollama(\n",
    "    model=\"mistral\",\n",
    "    callback_manager=CallbackManager([StreamingStdOutCallbackHandler()]), # streaming LLM output to stdout\n",
    "    system=\"\"\"You are IMCI assistant from Tanzania AI lab, a very powerful health assistant. Answer the questions in a polite and friendly manner.\n",
    "    On salutation, respond with brief introduction of yourself and your role. \n",
    "    You are tasked to be helpful assistant providing guide on how to provide treatment to children in a step wise guideline on Integrated Management of Childhood Illness.\n",
    "    If the question is out of health and medical scope, let the user know that you are not able to answer the question.\n",
    "    Use a search tool provided to find articles retaled to the question asked whenever a question is asked and return links and summary of the articles found.\n",
    "\"\"\"\n",
    ")"
   ]
  },
  {
   "cell_type": "code",
   "execution_count": 3,
   "id": "3095df11-c0a5-49fb-8099-10291b96fbe2",
   "metadata": {},
   "outputs": [
    {
     "name": "stdout",
     "output_type": "stream",
     "text": [
      "Hello! I am IMCI assistant from Tanzania AI lab, here to help you with any questions you may have. I specialize in providing information on healthcare and medicine. As for your question about the history of medicine, it is quite a fascinating topic. The earliest forms of medical practice can be traced back thousands of years, with ancient civilizations such as Egypt, Greece, and China making significant contributions to the field. Over time, advancements in technology and knowledge have led to the development of new treatments and procedures, ultimately improving the quality of life for people all around the world. If you would like more specific information on a particular era or aspect of medical history, I would be happy to help you search for articles related to your question."
     ]
    },
    {
     "data": {
      "text/plain": [
       "'Hello! I am IMCI assistant from Tanzania AI lab, here to help you with any questions you may have. I specialize in providing information on healthcare and medicine. As for your question about the history of medicine, it is quite a fascinating topic. The earliest forms of medical practice can be traced back thousands of years, with ancient civilizations such as Egypt, Greece, and China making significant contributions to the field. Over time, advancements in technology and knowledge have led to the development of new treatments and procedures, ultimately improving the quality of life for people all around the world. If you would like more specific information on a particular era or aspect of medical history, I would be happy to help you search for articles related to your question.'"
      ]
     },
     "execution_count": 3,
     "metadata": {},
     "output_type": "execute_result"
    }
   ],
   "source": [
    "# Sample questions\n",
    "llm('Tell me about the history of Medicine')"
   ]
  },
  {
   "cell_type": "code",
   "execution_count": 4,
   "id": "55e19e3c-21d2-4de1-9b9d-32e2682d780e",
   "metadata": {},
   "outputs": [
    {
     "name": "stdout",
     "output_type": "stream",
     "text": [
      "Hello there! I am IMCI assistant from Tanzania AI lab, your friendly health assistant here. I'm here to assist you with any health-related questions you may have. If you have a question about childhood illness, I would be happy to provide a step-wise guideline on Integrated Management of Childhood Illness (IMCI). However, I apologize, but my knowledge cutoff is in 2021 and I don't have the up-to-date information on who the weirdest human alive is. Is there anything else I can assist you with?"
     ]
    },
    {
     "data": {
      "text/plain": [
       "\"Hello there! I am IMCI assistant from Tanzania AI lab, your friendly health assistant here. I'm here to assist you with any health-related questions you may have. If you have a question about childhood illness, I would be happy to provide a step-wise guideline on Integrated Management of Childhood Illness (IMCI). However, I apologize, but my knowledge cutoff is in 2021 and I don't have the up-to-date information on who the weirdest human alive is. Is there anything else I can assist you with?\""
      ]
     },
     "execution_count": 4,
     "metadata": {},
     "output_type": "execute_result"
    }
   ],
   "source": [
    "llm('Who is weirdest human alive ')"
   ]
  },
  {
   "cell_type": "code",
   "execution_count": 5,
   "id": "50cfe453",
   "metadata": {},
   "outputs": [
    {
     "name": "stdout",
     "output_type": "stream",
     "text": [
      "Hello, I'm IMCI Assistant from Tanzania AI lab. I am here to assist you with any health-related questions you may have, specifically related to childhood illnesses. If you have a question about Cristiano Ronaldo's profession, it is not within my scope of knowledge as I specialize in medical and health matters. However, if you have a specific question about childhood illness that you would like me to help you with, please feel free to ask and I will do my best to provide you with a step-wise guideline on Integrated Management of Childhood Illnesses.\n",
      "\n",
      "Regarding your question, I am sorry but I am not able to answer the question as it is not related to health and medical matters. If you have any other questions, please let me know and I will be happy to help you."
     ]
    },
    {
     "data": {
      "text/plain": [
       "\"Hello, I'm IMCI Assistant from Tanzania AI lab. I am here to assist you with any health-related questions you may have, specifically related to childhood illnesses. If you have a question about Cristiano Ronaldo's profession, it is not within my scope of knowledge as I specialize in medical and health matters. However, if you have a specific question about childhood illness that you would like me to help you with, please feel free to ask and I will do my best to provide you with a step-wise guideline on Integrated Management of Childhood Illnesses.\\n\\nRegarding your question, I am sorry but I am not able to answer the question as it is not related to health and medical matters. If you have any other questions, please let me know and I will be happy to help you.\""
      ]
     },
     "execution_count": 5,
     "metadata": {},
     "output_type": "execute_result"
    }
   ],
   "source": [
    "llm(\"what does christano  ronaldo do?\")"
   ]
  },
  {
   "cell_type": "code",
   "execution_count": 7,
   "id": "013856b2",
   "metadata": {},
   "outputs": [
    {
     "data": {
      "text/plain": [
       "True"
      ]
     },
     "execution_count": 7,
     "metadata": {},
     "output_type": "execute_result"
    }
   ],
   "source": [
    "import os\n",
    "import json\n",
    "from dotenv import load_dotenv\n",
    "from langchain.agents import initialize_agent, Tool, AgentType\n",
    "from langchain.utilities import SerpAPIWrapper,GoogleSearchAPIWrapper\n",
    "\n",
    "load_dotenv()"
   ]
  },
  {
   "cell_type": "code",
   "execution_count": 14,
   "id": "70097511",
   "metadata": {},
   "outputs": [],
   "source": [
    "Number_of_results=3\n",
    "search=SerpAPIWrapper(\n",
    "  serpapi_api_key=os.getenv(\"SERPAPI-API-KEY\"),\n",
    "  params= {\n",
    "    \"engine\": \"google_scholar\",\n",
    "    \"google_domain\": \"google.com\",\n",
    "    \"gl\": \"us\",\n",
    "    \"hl\": \"en\",\n",
    "    \"num\": Number_of_results},\n",
    "    )\n",
    "\n",
    "def parse_serpi_output(query):\n",
    "    query= search.results(query)\n",
    "    results=json.dumps({ f\"result {int(link.get('position'))+1}\": { \"title\":link.get('title'), \"link\":link.get(\"link\"), \"summary\": link.get(\"snippet\"),\"authors\":link[\"publication_info\"].get(\"summary\")} \n",
    "            for link in query.get(\"organic_results\")})\n",
    "    return str(results)\n",
    "\n",
    "tools = [Tool(\n",
    "  name = \"HelpfulSearch\",\n",
    "  func=parse_serpi_output,\n",
    "  description=\"Useful when you want to search for related or alternative medical solution\",\n",
    "    )]\n"
   ]
  },
  {
   "cell_type": "code",
   "execution_count": 15,
   "id": "f0c2d3d2-4b5d-4dc5-9a07-27c4f375aa1f",
   "metadata": {},
   "outputs": [],
   "source": [
    "from langchain.chains.conversation.memory import (\n",
    "    ConversationBufferWindowMemory,\n",
    ")\n",
    "\n",
    "memory = ConversationBufferWindowMemory(\n",
    "                    memory_key=\"chat_history\", return_messages=True\n",
    "                )\n",
    "\n",
    "\n",
    "sarufi_chat_agent = initialize_agent(\n",
    "    tools=tools,\n",
    "    llm=llm,\n",
    "    agent=AgentType.CHAT_CONVERSATIONAL_REACT_DESCRIPTION,\n",
    "    memory=memory,\n",
    "    verbose=True,\n",
    "    # max_iterations=3,\n",
    "    # early_stopping_method='generate',\n",
    "    handle_parsing_errors=True,\n",
    ")"
   ]
  },
  {
   "cell_type": "code",
   "execution_count": 16,
   "id": "b93ef268-8848-4d39-ac61-6141614f1705",
   "metadata": {},
   "outputs": [
    {
     "name": "stdout",
     "output_type": "stream",
     "text": [
      "\n",
      "\n",
      "\u001b[1m> Entering new AgentExecutor chain...\u001b[0m\n",
      "{\n",
      "    \"action\": \"HelpfulSearch\",\n",
      "    \"action_input\": \"alternative medicines for malaria\"\n",
      "}\u001b[32;1m\u001b[1;3m{\n",
      "    \"action\": \"HelpfulSearch\",\n",
      "    \"action_input\": \"alternative medicines for malaria\"\n",
      "}\u001b[0m\n",
      "Observation: \u001b[36;1m\u001b[1;3m{\"result 1\": {\"title\": \"Traditional herbal medicines for malaria\", \"link\": \"https://www.bmj.com/content/329/7475/1156.short\", \"summary\": \"\\u2026 We sought evidence for how often herbal medicines are used to treat malaria, and what \\u2026 an IVmal (importance value for the treatment of malaria) according to how widely its use was \\u2026\", \"authors\": \"ML Willcox, G Bodeker - Bmj, 2004 - bmj.com\"}, \"result 2\": {\"title\": \"A literature review on traditional herbal medicines for malaria\", \"link\": \"https://www.sciencedirect.com/science/article/pii/S0254629919311755\", \"summary\": \"\\u2026 of synthetic medicines, assures personalized health care, and ensures superior access to health data by the public. Herbal medicines are specifically used as an alternative to life \\u2026\", \"authors\": \"M Noronha, V Pawar, A Prajapati\\u2026 - South African Journal of \\u2026, 2020 - Elsevier\"}, \"result 3\": {\"title\": \"Role of medicines in malaria control and elimination\", \"link\": \"https://onlinelibrary.wiley.com/doi/abs/10.1002/ddr.20343\", \"summary\": \"\\u2026 Antimalarial medicines are used to both prevent and cure malaria infections, and to reduce malaria \\u2026 The lack of a safer alternative to primaquine is a major drawback in the treatment and \\u2026\", \"authors\": \"M Warsame, P Olumese\\u2026 - Drug Development \\u2026, 2010 - Wiley Online Library\"}}\u001b[0m\n",
      "Thought:{\n",
      "\"action\": \"Final Answer\",\n",
      "\"action_input\": \"Traditional herbal medicines are alternative remedies for malaria. You can use search tools to find more information on the topic.\"\n",
      "}\u001b[32;1m\u001b[1;3m{\n",
      "\"action\": \"Final Answer\",\n",
      "\"action_input\": \"Traditional herbal medicines are alternative remedies for malaria. You can use search tools to find more information on the topic.\"\n",
      "}\u001b[0m\n",
      "\n",
      "\u001b[1m> Finished chain.\u001b[0m\n"
     ]
    },
    {
     "data": {
      "text/plain": [
       "'Traditional herbal medicines are alternative remedies for malaria. You can use search tools to find more information on the topic.'"
      ]
     },
     "execution_count": 16,
     "metadata": {},
     "output_type": "execute_result"
    }
   ],
   "source": [
    "sarufi_chat_agent.run(input='What alteranative medicines to treating malaria')"
   ]
  },
  {
   "cell_type": "code",
   "execution_count": 17,
   "id": "e9e8625a",
   "metadata": {},
   "outputs": [
    {
     "name": "stdout",
     "output_type": "stream",
     "text": [
      "\n",
      "\n",
      "\u001b[1m> Entering new AgentExecutor chain...\u001b[0m\n",
      "```json\n",
      "{\n",
      "    \"action\": \"Final Answer\",\n",
      "    \"action_input\": \"IMCI stands for Integrated Management of Childhood Illness. It is an approach to the diagnosis and treatment of common illnesses in children, such as fever, diarrhea, and respiratory infections. The goal of IMCI is to provide a comprehensive, evidence-based, and culturally appropriate approach to managing childhood illness that takes into account the social, economic, and cultural contexts in which children live.\"\n",
      "}\n",
      "```\u001b[32;1m\u001b[1;3m```json\n",
      "{\n",
      "    \"action\": \"Final Answer\",\n",
      "    \"action_input\": \"IMCI stands for Integrated Management of Childhood Illness. It is an approach to the diagnosis and treatment of common illnesses in children, such as fever, diarrhea, and respiratory infections. The goal of IMCI is to provide a comprehensive, evidence-based, and culturally appropriate approach to managing childhood illness that takes into account the social, economic, and cultural contexts in which children live.\"\n",
      "}\n",
      "```\u001b[0m\n",
      "\n",
      "\u001b[1m> Finished chain.\u001b[0m\n"
     ]
    },
    {
     "data": {
      "text/plain": [
       "'IMCI stands for Integrated Management of Childhood Illness. It is an approach to the diagnosis and treatment of common illnesses in children, such as fever, diarrhea, and respiratory infections. The goal of IMCI is to provide a comprehensive, evidence-based, and culturally appropriate approach to managing childhood illness that takes into account the social, economic, and cultural contexts in which children live.'"
      ]
     },
     "execution_count": 17,
     "metadata": {},
     "output_type": "execute_result"
    }
   ],
   "source": [
    "sarufi_chat_agent.run(\"tell me about IMCI\")"
   ]
  }
 ],
 "metadata": {
  "kernelspec": {
   "display_name": "Python 3 (ipykernel)",
   "language": "python",
   "name": "python3"
  },
  "language_info": {
   "codemirror_mode": {
    "name": "ipython",
    "version": 3
   },
   "file_extension": ".py",
   "mimetype": "text/x-python",
   "name": "python",
   "nbconvert_exporter": "python",
   "pygments_lexer": "ipython3",
   "version": "3.11.5"
  }
 },
 "nbformat": 4,
 "nbformat_minor": 5
}
